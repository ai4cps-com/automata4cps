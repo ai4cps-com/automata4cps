{
 "cells": [
  {
   "metadata": {},
   "cell_type": "markdown",
   "source": [
    "# Reinforcement learning (RL)\n",
    "## The goal\n",
    "The goal of this exercise is to practice the understanding of the key RL concepts.\n",
    "\n",
    "### Task 1: "
   ],
   "id": "91aa658ac5e69efe"
  },
  {
   "metadata": {
    "ExecuteTime": {
     "end_time": "2024-11-30T13:28:52.419271Z",
     "start_time": "2024-11-30T13:28:52.153231Z"
    }
   },
   "cell_type": "code",
   "source": [
    "from automata4cps import automata\n",
    "from automata4cps import vis\n",
    "env = automata.Automaton(states=[\"s1\", \"s2\", \"s3\"], transitions=[(\"s1\", \"a1\", \"s2\"), \n",
    "                                                                 (\"s1\", \"a1\", \"s3\"), \n",
    "                                                                 (\"s1\", \"a2\", \"s3\"), \n",
    "                                                                 (\"s2\", \"a1\", \"s1\"), \n",
    "                                                                 (\"s2\", \"a2\", \"s1\"),\n",
    "                                                                 (\"s2\", \"a1\", \"s2\"),\n",
    "                                                                 (\"s3\", \"a1\", \"s2\"),\n",
    "                                                                 (\"s3\", \"a2\", \"s2\"),\n",
    "                                                                 (\"s3\", \"a1\", \"s1\")])\n",
    "vis.plot_cps_component(env, output=\"notebook\", color=\"hsu\", min_zoom=3, max_zoom=3)"
   ],
   "id": "2f629d862dc3080f",
   "outputs": [
    {
     "data": {
      "text/plain": [
       "<IPython.lib.display.IFrame at 0x1cba32a7bc0>"
      ],
      "text/html": [
       "\n",
       "        <iframe\n",
       "            width=\"100%\"\n",
       "            height=\"650\"\n",
       "            src=\"http://127.0.0.1:8050/\"\n",
       "            frameborder=\"0\"\n",
       "            allowfullscreen\n",
       "            \n",
       "        ></iframe>\n",
       "        "
      ]
     },
     "metadata": {},
     "output_type": "display_data"
    }
   ],
   "execution_count": 3
  }
 ],
 "metadata": {
  "kernelspec": {
   "display_name": "Python 3",
   "language": "python",
   "name": "python3"
  },
  "language_info": {
   "codemirror_mode": {
    "name": "ipython",
    "version": 2
   },
   "file_extension": ".py",
   "mimetype": "text/x-python",
   "name": "python",
   "nbconvert_exporter": "python",
   "pygments_lexer": "ipython2",
   "version": "2.7.6"
  }
 },
 "nbformat": 4,
 "nbformat_minor": 5
}
