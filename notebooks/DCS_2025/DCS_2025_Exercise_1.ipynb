{
 "cells": [
  {
   "cell_type": "markdown",
   "id": "8ee21b0e4df5ced3",
   "metadata": {},
   "source": [
    "# Exercise 1: Introduction to Grammars and Languages\n",
    "In the first exercise we cover grammar and language theory. \n",
    "## Background\n",
    "### Discrete State Machines\n",
    "Discrete state machine represents a system (a model of a system) which has only discrete states (\"s1\", \"s2\"... or \"0\", \"1\", \"2\"..., basically a categorical variable) opposed to the systems with continuous state (a variable taking value from a continuous set, such as a set of real numbers).\n",
    "It allows us the represent the discrete behavior of a system.\n",
    "\n",
    "The code snippet bellow initializes a discrete state machine with 4 states and 2 different event symbols that trigger transition between discrete states. Later we will learn that such model is called an automaton, such that:\n",
    "\n",
    "- This state \"s0\" is the initial state of this model/system. This means that system behavior initializes (starts) always from \"s0\". \n",
    "- Additionally, the thick border of the state \"s0\" denotes accepting (final) state of the model - this means that system behavior (execution) can successfully finish only in \"s0\". Usually double circle is used for representing the accepting states. In this document the thicker border is used, as another way to distinguish accepting states.\n",
    "- The events (\"Event A\", \"Event B\" or \"Event C\") can be system inputs or outputs (or internal events). They enable the system to interact with its environment."
   ]
  },
  {
   "cell_type": "code",
   "id": "37e733ef0c14cfdb",
   "metadata": {
    "ExecuteTime": {
     "end_time": "2024-11-29T18:53:23.438957Z",
     "start_time": "2024-11-29T18:53:22.921741Z"
    }
   },
   "source": [
    "import automata4cps as ta\n",
    "from automata4cps import vis\n",
    "\n",
    "ta1 = ta.Automaton(states=[\"s0\", \"s1\", \"s2\", \"s3\"], initial_q=\"s0\", final_q=\"s0\",\n",
    "                   transitions=[(\"s0\", \"Event A\", \"s1\"),\n",
    "                                 (\"s1\", \"Event B\", \"s2\"),\n",
    "                                 (\"s0\", \"Event B\", \"s2\"),\n",
    "                                 (\"s2\", \"Event C\", \"s3\"),\n",
    "                                 (\"s0\", \"Event C\", \"s3\"),\n",
    "                                 (\"s3\", \"Event C\", \"s0\")])\n",
    "\n",
    "vis.plot_cps_component(ta1, node_labels=True, center_node_labels=True, output=\"notebook\", min_zoom=3, max_zoom=3, color='hsu')"
   ],
   "outputs": [
    {
     "data": {
      "text/plain": [
       "<IPython.lib.display.IFrame at 0x2157732c1d0>"
      ],
      "text/html": [
       "\n",
       "        <iframe\n",
       "            width=\"100%\"\n",
       "            height=\"650\"\n",
       "            src=\"http://127.0.0.1:8050/\"\n",
       "            frameborder=\"0\"\n",
       "            allowfullscreen\n",
       "            \n",
       "        ></iframe>\n",
       "        "
      ]
     },
     "metadata": {},
     "output_type": "display_data"
    }
   ],
   "execution_count": 34
  },
  {
   "metadata": {
    "ExecuteTime": {
     "end_time": "2024-11-29T18:53:23.442426Z",
     "start_time": "2024-11-29T18:53:23.439966Z"
    }
   },
   "cell_type": "code",
   "source": "print(ta1)",
   "id": "7baa3e689ae10ecf",
   "outputs": [
    {
     "name": "stdout",
     "output_type": "stream",
     "text": [
      "Automaton:\n",
      "    Number of states: 4\n",
      "    Number of transitions: 6\n",
      "    Initial state(s): ['s0']\n",
      "    Final state(s): ['s0']\n"
     ]
    }
   ],
   "execution_count": 35
  },
  {
   "metadata": {},
   "cell_type": "markdown",
   "source": [
    "This system has many possible \"behaviors\" or \"executions\". Possible system behaviour might be:\n",
    "- State transitions: s0-s1-s2-s3-s0, accompanied by the events: \"Event A\", \"Event B\", \"Event C\", \"Event C\" \n",
    "- State transitions: s0-s2-s3-s0-s3-s0, accompanied by the events: \"Event B\", \"Event C\", \"Event C\", \"Event C\", \"Event C\"\n",
    "- State transitions: s0-s1-s2-s3-s0-s2-s3-s0-s3-s0, accompanied by the events: \"Event A\", \"Event B\", \"Event C\", \"Event C\", \"Event B\", \"Event C\", \"Event C\", \"Event C\", \"Event C\" \n",
    "\n",
    "\n",
    "Let us check this in the code. The method `accepts` returns the `True`/`False` value of whether the given sequence of events is accepted. The second returned value (because `return_states=True`) is the sequence of system states during the execution of given events. "
   ],
   "id": "fad2fa8ce7f0bd7b"
  },
  {
   "metadata": {
    "ExecuteTime": {
     "end_time": "2024-11-29T18:53:23.455310Z",
     "start_time": "2024-11-29T18:53:23.442426Z"
    }
   },
   "cell_type": "code",
   "source": "ta1.accepts([\"Event A\", \"Event B\", \"Event C\", \"Event C\"], return_states=True)",
   "id": "a1493657260ba12d",
   "outputs": [
    {
     "data": {
      "text/plain": [
       "(True, ['s0', 's1', 's2', 's3', 's0'])"
      ]
     },
     "execution_count": 36,
     "metadata": {},
     "output_type": "execute_result"
    }
   ],
   "execution_count": 36
  },
  {
   "metadata": {
    "ExecuteTime": {
     "end_time": "2024-11-29T18:53:23.458920Z",
     "start_time": "2024-11-29T18:53:23.456314Z"
    }
   },
   "cell_type": "code",
   "source": "ta1.accepts([\"Event B\", \"Event C\", \"Event C\", \"Event C\", \"Event C\"], return_states=True)",
   "id": "ceccc5e10ac4bde9",
   "outputs": [
    {
     "data": {
      "text/plain": [
       "(True, ['s0', 's2', 's3', 's0', 's3', 's0'])"
      ]
     },
     "execution_count": 37,
     "metadata": {},
     "output_type": "execute_result"
    }
   ],
   "execution_count": 37
  },
  {
   "metadata": {
    "ExecuteTime": {
     "end_time": "2024-11-29T18:53:23.462350Z",
     "start_time": "2024-11-29T18:53:23.458920Z"
    }
   },
   "cell_type": "code",
   "source": "ta1.accepts([\"Event A\", \"Event B\", \"Event C\", \"Event C\", \"Event B\", \"Event C\", \"Event C\", \"Event C\", \"Event C\"], return_states=True)",
   "id": "51af7a432c6f8974",
   "outputs": [
    {
     "data": {
      "text/plain": [
       "(True, ['s0', 's1', 's2', 's3', 's0', 's2', 's3', 's0', 's3', 's0'])"
      ]
     },
     "execution_count": 38,
     "metadata": {},
     "output_type": "execute_result"
    }
   ],
   "execution_count": 38
  },
  {
   "metadata": {},
   "cell_type": "markdown",
   "source": "Let us generate more sequences using this discrete state machine: ",
   "id": "3ed490a2a7e6bc11"
  },
  {
   "metadata": {
    "ExecuteTime": {
     "end_time": "2024-11-29T18:53:23.466295Z",
     "start_time": "2024-11-29T18:53:23.462350Z"
    }
   },
   "cell_type": "code",
   "source": [
    "sequences = ta1.generate(number_of_sequences=10, return_states=True, prob_to_accept=0.2)\n",
    "for ind, s in enumerate(sequences):\n",
    "    print(f'Sequence {ind+1}: ', s)"
   ],
   "id": "1027ee01896f0c2c",
   "outputs": [
    {
     "name": "stdout",
     "output_type": "stream",
     "text": [
      "Sequence 1:  (['Event B', 'Event C', 'Event C', 'Event B', 'Event C', 'Event C', 'Event C', 'Event C', 'Event C', 'Event C', 'Event C', 'Event C'], ['s0', 's2', 's3', 's0', 's2', 's3', 's0', 's3', 's0', 's3', 's0', 's3', 's0'])\n",
      "Sequence 2:  ([], ['s0'])\n",
      "Sequence 3:  (['Event B', 'Event C', 'Event C', 'Event B', 'Event C', 'Event C'], ['s0', 's2', 's3', 's0', 's2', 's3', 's0'])\n",
      "Sequence 4:  (['Event C', 'Event C'], ['s0', 's3', 's0'])\n",
      "Sequence 5:  (['Event C', 'Event C', 'Event B', 'Event C', 'Event C', 'Event B', 'Event C', 'Event C', 'Event C', 'Event C', 'Event B', 'Event C', 'Event C', 'Event B', 'Event C', 'Event C', 'Event B', 'Event C', 'Event C'], ['s0', 's3', 's0', 's2', 's3', 's0', 's2', 's3', 's0', 's3', 's0', 's2', 's3', 's0', 's2', 's3', 's0', 's2', 's3', 's0'])\n",
      "Sequence 6:  (['Event C', 'Event C', 'Event A', 'Event B', 'Event C', 'Event C', 'Event A', 'Event B', 'Event C', 'Event C', 'Event C', 'Event C', 'Event B', 'Event C', 'Event C', 'Event A', 'Event B', 'Event C', 'Event C', 'Event B', 'Event C', 'Event C'], ['s0', 's3', 's0', 's1', 's2', 's3', 's0', 's1', 's2', 's3', 's0', 's3', 's0', 's2', 's3', 's0', 's1', 's2', 's3', 's0', 's2', 's3', 's0'])\n",
      "Sequence 7:  (['Event C', 'Event C', 'Event C', 'Event C', 'Event B', 'Event C', 'Event C', 'Event C', 'Event C', 'Event A', 'Event B', 'Event C', 'Event C', 'Event C', 'Event C'], ['s0', 's3', 's0', 's3', 's0', 's2', 's3', 's0', 's3', 's0', 's1', 's2', 's3', 's0', 's3', 's0'])\n",
      "Sequence 8:  (['Event B', 'Event C', 'Event C', 'Event B', 'Event C', 'Event C', 'Event A', 'Event B', 'Event C', 'Event C', 'Event C', 'Event C', 'Event C', 'Event C', 'Event B', 'Event C', 'Event C', 'Event A', 'Event B', 'Event C', 'Event C', 'Event B', 'Event C', 'Event C', 'Event A', 'Event B', 'Event C', 'Event C', 'Event B', 'Event C', 'Event C', 'Event A', 'Event B', 'Event C', 'Event C', 'Event A', 'Event B', 'Event C', 'Event C', 'Event B', 'Event C', 'Event C', 'Event A', 'Event B', 'Event C', 'Event C', 'Event C', 'Event C', 'Event A', 'Event B', 'Event C', 'Event C', 'Event C', 'Event C', 'Event A', 'Event B', 'Event C', 'Event C', 'Event B', 'Event C', 'Event C', 'Event C', 'Event C'], ['s0', 's2', 's3', 's0', 's2', 's3', 's0', 's1', 's2', 's3', 's0', 's3', 's0', 's3', 's0', 's2', 's3', 's0', 's1', 's2', 's3', 's0', 's2', 's3', 's0', 's1', 's2', 's3', 's0', 's2', 's3', 's0', 's1', 's2', 's3', 's0', 's1', 's2', 's3', 's0', 's2', 's3', 's0', 's1', 's2', 's3', 's0', 's3', 's0', 's1', 's2', 's3', 's0', 's3', 's0', 's1', 's2', 's3', 's0', 's2', 's3', 's0', 's3', 's0'])\n",
      "Sequence 9:  (['Event C', 'Event C'], ['s0', 's3', 's0'])\n",
      "Sequence 10:  (['Event A', 'Event B', 'Event C', 'Event C', 'Event C', 'Event C'], ['s0', 's1', 's2', 's3', 's0', 's3', 's0'])\n"
     ]
    }
   ],
   "execution_count": 39
  },
  {
   "metadata": {},
   "cell_type": "markdown",
   "source": "Here is another example of a discrete state machine representing a control logic of a heater:",
   "id": "3d9e0afa9ae2f84b"
  },
  {
   "cell_type": "code",
   "id": "initial_id",
   "metadata": {
    "collapsed": true,
    "jupyter": {
     "outputs_hidden": true
    },
    "ExecuteTime": {
     "end_time": "2024-11-29T18:53:23.489497Z",
     "start_time": "2024-11-29T18:53:23.466295Z"
    }
   },
   "source": [
    "import automata4cps as ta\n",
    "from automata4cps import vis\n",
    "\n",
    "ta2 = ta.Automaton(states=[\"Off\", \"Heating\", \"Idle\"], initial_q=\"Off\", final_q=\"Off\", transitions=[(\"Off\", \"On\", \"Heating\"),\n",
    "                                                             (\"Heating\", \"Idle\", \"Idle\"),\n",
    "                                                             (\"Idle\", \"Heating\", \"Heating\"),\n",
    "                                                             (\"Heating\", \"Off\", \"Off\"),\n",
    "                                                             (\"Idle\", \"Off\", \"Off\")])\n",
    "vis.plot_cps_component(ta2, node_labels=True, center_node_labels=True, output=\"notebook\", min_zoom=3, max_zoom=3, color='hsu')"
   ],
   "outputs": [
    {
     "data": {
      "text/plain": [
       "<IPython.lib.display.IFrame at 0x215788193a0>"
      ],
      "text/html": [
       "\n",
       "        <iframe\n",
       "            width=\"100%\"\n",
       "            height=\"650\"\n",
       "            src=\"http://127.0.0.1:8050/\"\n",
       "            frameborder=\"0\"\n",
       "            allowfullscreen\n",
       "            \n",
       "        ></iframe>\n",
       "        "
      ]
     },
     "metadata": {},
     "output_type": "display_data"
    }
   ],
   "execution_count": 40
  },
  {
   "metadata": {
    "ExecuteTime": {
     "end_time": "2024-11-29T18:53:23.492597Z",
     "start_time": "2024-11-29T18:53:23.489497Z"
    }
   },
   "cell_type": "code",
   "source": "print(str(ta2))",
   "id": "87787100ee50bf52",
   "outputs": [
    {
     "name": "stdout",
     "output_type": "stream",
     "text": [
      "Automaton:\n",
      "    Number of states: 3\n",
      "    Number of transitions: 5\n",
      "    Initial state(s): ['Off']\n",
      "    Final state(s): ['Off']\n"
     ]
    }
   ],
   "execution_count": 41
  },
  {
   "metadata": {},
   "cell_type": "markdown",
   "source": [
    "### Language and grammar\n",
    "In this part we give a simple regular grammar in form of a discrete state machine:"
   ],
   "id": "a8f42e2437b7a9b"
  },
  {
   "metadata": {
    "ExecuteTime": {
     "end_time": "2024-11-29T18:53:23.537353Z",
     "start_time": "2024-11-29T18:53:23.493602Z"
    }
   },
   "cell_type": "code",
   "source": [
    "ta3 = ta.Automaton(states=[\"s0\", \"s1\", \"s2\"], initial_q=\"s0\", final_q=\"s2\", transitions=[(\"s0\", \"a\", \"s1\"),\n",
    "                                                             (\"s1\", \"a\", \"s1\"),\n",
    "                                                             (\"s1\", \"b\", \"s2\"),\n",
    "                                                             (\"s2\", \"b\", \"s2\")])\n",
    "vis.plot_cps_component(ta3, node_labels=True, center_node_labels=True, output=\"notebook\", min_zoom=3, max_zoom=3, color='hsu')"
   ],
   "id": "59c47ba8794ee364",
   "outputs": [
    {
     "data": {
      "text/plain": [
       "<IPython.lib.display.IFrame at 0x215787dbb30>"
      ],
      "text/html": [
       "\n",
       "        <iframe\n",
       "            width=\"100%\"\n",
       "            height=\"650\"\n",
       "            src=\"http://127.0.0.1:8050/\"\n",
       "            frameborder=\"0\"\n",
       "            allowfullscreen\n",
       "            \n",
       "        ></iframe>\n",
       "        "
      ]
     },
     "metadata": {},
     "output_type": "display_data"
    }
   ],
   "execution_count": 42
  },
  {
   "metadata": {
    "ExecuteTime": {
     "end_time": "2024-11-29T18:53:23.541027Z",
     "start_time": "2024-11-29T18:53:23.538361Z"
    }
   },
   "cell_type": "code",
   "source": "print(ta3)",
   "id": "a3897e2d74a335f7",
   "outputs": [
    {
     "name": "stdout",
     "output_type": "stream",
     "text": [
      "Automaton:\n",
      "    Number of states: 3\n",
      "    Number of transitions: 4\n",
      "    Initial state(s): ['s0']\n",
      "    Final state(s): ['s2']\n"
     ]
    }
   ],
   "execution_count": 43
  },
  {
   "metadata": {
    "ExecuteTime": {
     "end_time": "2024-11-29T18:53:23.544803Z",
     "start_time": "2024-11-29T18:53:23.541027Z"
    }
   },
   "cell_type": "code",
   "source": "ta3.accepts(\"ab\", return_states=True)",
   "id": "16f10053988418f1",
   "outputs": [
    {
     "data": {
      "text/plain": [
       "(True, ['s0', 's1', 's2'])"
      ]
     },
     "execution_count": 44,
     "metadata": {},
     "output_type": "execute_result"
    }
   ],
   "execution_count": 44
  },
  {
   "metadata": {
    "ExecuteTime": {
     "end_time": "2024-11-29T18:53:23.548220Z",
     "start_time": "2024-11-29T18:53:23.544803Z"
    }
   },
   "cell_type": "code",
   "source": "ta3.accepts(\"aab\", return_states=True)",
   "id": "990f5409b364addb",
   "outputs": [
    {
     "data": {
      "text/plain": [
       "(True, ['s0', 's1', 's1', 's2'])"
      ]
     },
     "execution_count": 45,
     "metadata": {},
     "output_type": "execute_result"
    }
   ],
   "execution_count": 45
  },
  {
   "metadata": {
    "ExecuteTime": {
     "end_time": "2024-11-29T18:53:23.552130Z",
     "start_time": "2024-11-29T18:53:23.548220Z"
    }
   },
   "cell_type": "code",
   "source": "ta3.accepts(\"abbb\", return_states=True)",
   "id": "bffe55bc03506db4",
   "outputs": [
    {
     "data": {
      "text/plain": [
       "(True, ['s0', 's1', 's2', 's2', 's2'])"
      ]
     },
     "execution_count": 46,
     "metadata": {},
     "output_type": "execute_result"
    }
   ],
   "execution_count": 46
  },
  {
   "metadata": {
    "ExecuteTime": {
     "end_time": "2024-11-29T18:53:23.555335Z",
     "start_time": "2024-11-29T18:53:23.552130Z"
    }
   },
   "cell_type": "code",
   "source": "ta3.accepts(\"\", return_states=True)",
   "id": "6c59269874b21112",
   "outputs": [
    {
     "data": {
      "text/plain": [
       "(False, ['s0'])"
      ]
     },
     "execution_count": 47,
     "metadata": {},
     "output_type": "execute_result"
    }
   ],
   "execution_count": 47
  },
  {
   "metadata": {},
   "cell_type": "markdown",
   "source": "Lets generate some sequences:",
   "id": "2f9d3d83138d916e"
  },
  {
   "metadata": {
    "ExecuteTime": {
     "end_time": "2024-11-29T18:53:23.561564Z",
     "start_time": "2024-11-29T18:53:23.556341Z"
    }
   },
   "cell_type": "code",
   "source": "ta3.generate(number_of_sequences=10, return_states=False, prob_to_accept=0.2)",
   "id": "631f347ff90de19f",
   "outputs": [
    {
     "data": {
      "text/plain": [
       "[['a', 'b', 'b', 'b', 'b', 'b'],\n",
       " ['a', 'a', 'b', 'b', 'b', 'b', 'b', 'b', 'b'],\n",
       " ['a', 'a', 'a', 'b', 'b', 'b', 'b'],\n",
       " ['a', 'b', 'b'],\n",
       " ['a', 'a', 'a', 'b', 'b', 'b', 'b', 'b'],\n",
       " ['a', 'b', 'b'],\n",
       " ['a', 'b', 'b', 'b', 'b', 'b', 'b'],\n",
       " ['a', 'b', 'b', 'b'],\n",
       " ['a', 'b', 'b', 'b'],\n",
       " ['a', 'a', 'b', 'b', 'b', 'b', 'b', 'b', 'b', 'b', 'b']]"
      ]
     },
     "execution_count": 48,
     "metadata": {},
     "output_type": "execute_result"
    }
   ],
   "execution_count": 48
  },
  {
   "metadata": {},
   "cell_type": "markdown",
   "source": "To formalize the behavior of discrete systems we can use the language theory and grammar theory. The discrete state machines like those introduced so far are capable of representing one group of languages (the simplest ones - called regular languages, this taxonomy will be introduced later).",
   "id": "4836d00d6346375a"
  },
  {
   "metadata": {},
   "cell_type": "markdown",
   "source": [
    "#### Another example of a language, slightly different from the previous one\n",
    "The key difference is that this automaton can produce an empty sequence."
   ],
   "id": "987ecd8745f83498"
  },
  {
   "metadata": {
    "ExecuteTime": {
     "end_time": "2024-11-29T18:53:23.596535Z",
     "start_time": "2024-11-29T18:53:23.562570Z"
    }
   },
   "cell_type": "code",
   "source": [
    "ta4 = ta.Automaton(states=[\"s0\", \"s1\", \"s2\"], initial_q=\"s0\", final_q=[\"s0\", \"s1\", \"s2\"], transitions=[(\"s0\", \"a\", \"s1\"),\n",
    "                                                             (\"s0\", \"b\", \"s2\"),\n",
    "                                                             (\"s1\", \"a\", \"s1\"),\n",
    "                                                             (\"s2\", \"b\", \"s2\"),\n",
    "                                                             (\"s1\", \"b\", \"s2\")])\n",
    "vis.plot_cps_component(ta4, node_labels=True, center_node_labels=True, output=\"notebook\", min_zoom=3, max_zoom=3, color='hsu')"
   ],
   "id": "28eacf82e0ae34a3",
   "outputs": [
    {
     "data": {
      "text/plain": [
       "<IPython.lib.display.IFrame at 0x21569c8aea0>"
      ],
      "text/html": [
       "\n",
       "        <iframe\n",
       "            width=\"100%\"\n",
       "            height=\"650\"\n",
       "            src=\"http://127.0.0.1:8050/\"\n",
       "            frameborder=\"0\"\n",
       "            allowfullscreen\n",
       "            \n",
       "        ></iframe>\n",
       "        "
      ]
     },
     "metadata": {},
     "output_type": "display_data"
    }
   ],
   "execution_count": 49
  },
  {
   "metadata": {
    "ExecuteTime": {
     "end_time": "2024-11-29T18:53:23.600469Z",
     "start_time": "2024-11-29T18:53:23.597585Z"
    }
   },
   "cell_type": "code",
   "source": "ta4.accepts(\"\", return_states=True)",
   "id": "f0e017300b27f625",
   "outputs": [
    {
     "data": {
      "text/plain": [
       "(True, ['s0'])"
      ]
     },
     "execution_count": 50,
     "metadata": {},
     "output_type": "execute_result"
    }
   ],
   "execution_count": 50
  },
  {
   "metadata": {
    "ExecuteTime": {
     "end_time": "2024-11-29T18:53:23.604743Z",
     "start_time": "2024-11-29T18:53:23.601488Z"
    }
   },
   "cell_type": "code",
   "source": "ta4.accepts(\"ab\", return_states=True)",
   "id": "bd60776720531423",
   "outputs": [
    {
     "data": {
      "text/plain": [
       "(True, ['s0', 's1', 's2'])"
      ]
     },
     "execution_count": 51,
     "metadata": {},
     "output_type": "execute_result"
    }
   ],
   "execution_count": 51
  },
  {
   "metadata": {
    "ExecuteTime": {
     "end_time": "2024-11-29T18:53:23.608183Z",
     "start_time": "2024-11-29T18:53:23.604743Z"
    }
   },
   "cell_type": "code",
   "source": "ta4.accepts(\"aab\", return_states=True)",
   "id": "fd5e7d404a54e6bc",
   "outputs": [
    {
     "data": {
      "text/plain": [
       "(True, ['s0', 's1', 's1', 's2'])"
      ]
     },
     "execution_count": 52,
     "metadata": {},
     "output_type": "execute_result"
    }
   ],
   "execution_count": 52
  },
  {
   "metadata": {
    "ExecuteTime": {
     "end_time": "2024-11-29T18:53:23.612153Z",
     "start_time": "2024-11-29T18:53:23.608183Z"
    }
   },
   "cell_type": "code",
   "source": "ta4.accepts(\"abb\", return_states=True)",
   "id": "52c6eb29f723d5ce",
   "outputs": [
    {
     "data": {
      "text/plain": [
       "(True, ['s0', 's1', 's2', 's2'])"
      ]
     },
     "execution_count": 53,
     "metadata": {},
     "output_type": "execute_result"
    }
   ],
   "execution_count": 53
  },
  {
   "metadata": {
    "ExecuteTime": {
     "end_time": "2024-11-29T18:53:23.616571Z",
     "start_time": "2024-11-29T18:53:23.612153Z"
    }
   },
   "cell_type": "code",
   "source": "ta4.generate(number_of_sequences=10, return_states=False, prob_to_accept=0.2)",
   "id": "495104d7497b68b3",
   "outputs": [
    {
     "data": {
      "text/plain": [
       "[['b', 'b', 'b'],\n",
       " ['b', 'b', 'b'],\n",
       " ['a', 'a', 'a'],\n",
       " ['a', 'a', 'a', 'a', 'b', 'b', 'b', 'b'],\n",
       " [],\n",
       " ['b', 'b', 'b'],\n",
       " ['b', 'b', 'b', 'b', 'b', 'b'],\n",
       " ['b', 'b', 'b'],\n",
       " ['b', 'b', 'b', 'b', 'b'],\n",
       " ['b']]"
      ]
     },
     "execution_count": 54,
     "metadata": {},
     "output_type": "execute_result"
    }
   ],
   "execution_count": 54
  },
  {
   "metadata": {
    "ExecuteTime": {
     "end_time": "2024-11-29T18:53:23.619451Z",
     "start_time": "2024-11-29T18:53:23.617676Z"
    }
   },
   "cell_type": "code",
   "source": "",
   "id": "3a51a80ca8754011",
   "outputs": [],
   "execution_count": 54
  }
 ],
 "metadata": {
  "kernelspec": {
   "display_name": "Python 3 (ipykernel)",
   "language": "python",
   "name": "python3"
  },
  "language_info": {
   "codemirror_mode": {
    "name": "ipython",
    "version": 3
   },
   "file_extension": ".py",
   "mimetype": "text/x-python",
   "name": "python",
   "nbconvert_exporter": "python",
   "pygments_lexer": "ipython3",
   "version": "3.12.7"
  }
 },
 "nbformat": 4,
 "nbformat_minor": 5
}
