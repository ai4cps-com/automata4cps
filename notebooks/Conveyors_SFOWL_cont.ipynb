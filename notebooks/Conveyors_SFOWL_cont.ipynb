{
 "cells": [
  {
   "cell_type": "code",
   "outputs": [],
   "source": [
    "import examples\n",
    "import learn\n",
    "import tools\n",
    "discrete_data, timestamp_col, discrete_vars = examples.conveyor_system_sfowl(\"discrete\")\n",
    "data, _, _, cont_vars = examples.conveyor_system_sfowl(\"all\")"
   ],
   "metadata": {
    "collapsed": false
   },
   "id": "a401058a372dfc68"
  },
  {
   "cell_type": "markdown",
   "source": [
    "# Continuous data\n"
   ],
   "metadata": {
    "collapsed": false
   },
   "id": "54c9b2a136af4a"
  },
  {
   "cell_type": "code",
   "outputs": [],
   "source": [
    "data = ta.predict_state(data, time_col_name=\"timestamp\", discr_col_names=discrete_vars)\n",
    "data[0]"
   ],
   "metadata": {
    "collapsed": false,
    "ExecuteTime": {
     "start_time": "2024-02-16T09:37:45.326288300Z"
    }
   },
   "id": "dc5ed5dacd66a4bb",
   "execution_count": null
  },
  {
   "cell_type": "code",
   "outputs": [],
   "source": [
    "state_sequences = tools.group_data_on_discrete_state(data, state_column=\"StateEstimate\")\n",
    "dd = list(state_sequences.values())[0]\n",
    "type(dd)"
   ],
   "metadata": {
    "collapsed": false,
    "ExecuteTime": {
     "start_time": "2024-02-16T09:37:45.326830100Z"
    }
   },
   "id": "dff34dcdc9a65b63",
   "execution_count": null
  },
  {
   "cell_type": "code",
   "outputs": [],
   "source": [
    "\n",
    "tools.plot_data(dd)"
   ],
   "metadata": {
    "collapsed": false,
    "ExecuteTime": {
     "start_time": "2024-02-16T09:37:45.327862500Z"
    }
   },
   "id": "776fada70b00def1",
   "execution_count": null
  },
  {
   "cell_type": "code",
   "outputs": [],
   "source": [],
   "metadata": {
    "collapsed": false
   },
   "id": "28d4d1e027120e5a"
  }
 ],
 "metadata": {
  "kernelspec": {
   "display_name": "Python 3 (ipykernel)",
   "language": "python",
   "name": "python3"
  },
  "language_info": {
   "codemirror_mode": {
    "name": "ipython",
    "version": 3
   },
   "file_extension": ".py",
   "mimetype": "text/x-python",
   "name": "python",
   "nbconvert_exporter": "python",
   "pygments_lexer": "ipython3",
   "version": "3.11.7"
  }
 },
 "nbformat": 4,
 "nbformat_minor": 5
}
